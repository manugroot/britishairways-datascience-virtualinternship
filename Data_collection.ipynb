{
  "cells": [
    {
      "cell_type": "code",
      "source": [
        "from google.colab import drive\n",
        "drive.mount('/content/drive/')"
      ],
      "metadata": {
        "colab": {
          "base_uri": "https://localhost:8080/"
        },
        "id": "GfpS99l1dJuY",
        "outputId": "cfd63c82-4cd4-4f18-ef72-1b6f5caf67b4"
      },
      "id": "GfpS99l1dJuY",
      "execution_count": 1,
      "outputs": [
        {
          "output_type": "stream",
          "name": "stdout",
          "text": [
            "Mounted at /content/drive/\n"
          ]
        }
      ]
    },
    {
      "cell_type": "markdown",
      "id": "8d47a312-9fd2-44a8-b43e-aaaddaf670c4",
      "metadata": {
        "id": "8d47a312-9fd2-44a8-b43e-aaaddaf670c4"
      },
      "source": [
        "## Data Collection\n",
        "\n",
        "In this phase we will collect the customer ratings data from the airline quality website called [Skytrax](https://www.airlinequality.com/airline-reviews/british-airways). We will collect data about airline ratings, seat ratings and lounge experience ratings from this website. "
      ]
    },
    {
      "cell_type": "code",
      "execution_count": 2,
      "id": "5f43dc5f-ffc2-4ba0-8a73-3b70e9ab0fcf",
      "metadata": {
        "id": "5f43dc5f-ffc2-4ba0-8a73-3b70e9ab0fcf"
      },
      "outputs": [],
      "source": [
        "#imports\n",
        "\n",
        "import pandas as pd\n",
        "import numpy as np\n",
        "from bs4 import BeautifulSoup\n",
        "import requests "
      ]
    },
    {
      "cell_type": "code",
      "execution_count": 4,
      "id": "d5c2c023-7500-4e89-94f7-ddff4864d83c",
      "metadata": {
        "id": "d5c2c023-7500-4e89-94f7-ddff4864d83c"
      },
      "outputs": [],
      "source": [
        "#create an empty list to collect all reviews\n",
        "reviews  = []\n",
        "\n",
        "#create an empty list to collect rating stars\n",
        "stars = []\n",
        "\n",
        "#create an empty list to collect date\n",
        "date = []\n",
        "\n",
        "#create an empty list to collect country the reviewer is from\n",
        "country = []\n",
        "\n",
        "#create an empty list to collect the seat type the customer selected\n",
        "seat_type = []"
      ]
    },
    {
      "cell_type": "code",
      "execution_count": 5,
      "id": "2894e93a-cbd4-45b5-b262-95f88994d83a",
      "metadata": {
        "colab": {
          "base_uri": "https://localhost:8080/"
        },
        "id": "2894e93a-cbd4-45b5-b262-95f88994d83a",
        "outputId": "eb229e53-8f96-414e-d5b2-48deb38d18bd"
      },
      "outputs": [
        {
          "output_type": "stream",
          "name": "stdout",
          "text": [
            "Error on page 30\n",
            "Error on page 31\n",
            "Error on page 31\n",
            "Error on page 34\n",
            "Error on page 34\n"
          ]
        }
      ],
      "source": [
        "for i in range(1, 36):\n",
        "    page = requests.get(f\"https://www.airlinequality.com/airline-reviews/british-airways/page/{i}/?sortby=post_date%3ADesc&pagesize=100\")\n",
        "    soup = BeautifulSoup(page.content, \"html5\")\n",
        "    \n",
        "    #reviews\n",
        "    for item in soup.find_all(\"div\", class_=\"text_content\"):\n",
        "        reviews.append(item.text)\n",
        "        \n",
        "    #star rating\n",
        "    for item in soup.find_all(\"div\", class_ = \"rating-10\"):\n",
        "        try:\n",
        "            stars.append(item.span.text)\n",
        "        except:\n",
        "            print(f\"Error on page {i}\")\n",
        "            stars.append(\"None\")\n",
        "            \n",
        "    #date\n",
        "    for item in soup.find_all(\"time\"):\n",
        "        date.append(item.text)\n",
        "        \n",
        "    #country\n",
        "    for item in soup.find_all(\"h3\"):\n",
        "        country.append(item.span.next_sibling.strip(\" ()\"))\n",
        "\n",
        "    #seat type\n",
        "    try:\n",
        "      for table in soup.findAll(\"table\"):\n",
        "        for row in table.findAll(\"tr\"):\n",
        "          out_row = []\n",
        "          for col in row.findAll(\"td\"):\n",
        "            out_row.append(col.text)\n",
        "          if out_row[0] == 'Seat Type':\n",
        "            seat_type.append(out_row[1])\n",
        "          #if out_row[0] == 'Date Flown':\n",
        "            #date.append(out_row[1])\n",
        "    except requests.HTTPError as e:\n",
        "      print('Unable to open url',e)"
      ]
    },
    {
      "cell_type": "code",
      "source": [
        "print(\"reviews\",len(reviews),\"Stars\",len(stars),\"Date\",len(date),\"Country\",len(country),\"Seat Type\",len(seat_type))"
      ],
      "metadata": {
        "colab": {
          "base_uri": "https://localhost:8080/"
        },
        "id": "oiPtmof3UdTa",
        "outputId": "4677e9ad-60ed-4880-c76a-10af66aba53f"
      },
      "id": "oiPtmof3UdTa",
      "execution_count": 6,
      "outputs": [
        {
          "output_type": "stream",
          "name": "stdout",
          "text": [
            "reviews 3500 Stars 3535 Date 3500 Country 3500 Seat Type 3498\n"
          ]
        }
      ]
    },
    {
      "cell_type": "code",
      "source": [
        "min_len = min(len(reviews), len(stars), len(date), len(country),len(seat_type))\n",
        "reviews = reviews[:min_len]\n",
        "stars = stars[:min_len]\n",
        "date = date[:min_len]\n",
        "country = country[:min_len]\n",
        "seat_type = seat_type[:min_len]"
      ],
      "metadata": {
        "id": "hph6t5sHchvJ"
      },
      "id": "hph6t5sHchvJ",
      "execution_count": 7,
      "outputs": []
    },
    {
      "cell_type": "code",
      "source": [
        "print(\"reviews\",len(reviews),\"Stars\",len(stars),\"Date\",len(date),\"Country\",len(country),\"Seat Type\",len(seat_type))"
      ],
      "metadata": {
        "colab": {
          "base_uri": "https://localhost:8080/"
        },
        "id": "N_WvTCIP3hQS",
        "outputId": "476b1db6-fd6c-452f-830c-aa08150f0c5d"
      },
      "id": "N_WvTCIP3hQS",
      "execution_count": 8,
      "outputs": [
        {
          "output_type": "stream",
          "name": "stdout",
          "text": [
            "reviews 3498 Stars 3498 Date 3498 Country 3498 Seat Type 3498\n"
          ]
        }
      ]
    },
    {
      "cell_type": "code",
      "source": [
        "month =[]\n",
        "year = []\n",
        "for i in date:\n",
        "  i = list(i.split(\" \"))\n",
        "  month.append(i[1])\n",
        "  year.append(i[2])"
      ],
      "metadata": {
        "id": "UlkWUGiG4rqf"
      },
      "id": "UlkWUGiG4rqf",
      "execution_count": 9,
      "outputs": []
    },
    {
      "cell_type": "code",
      "execution_count": 10,
      "id": "79213047-71dd-4907-8caf-d9a9d157f37a",
      "metadata": {
        "id": "79213047-71dd-4907-8caf-d9a9d157f37a"
      },
      "outputs": [],
      "source": [
        "#create  a dataframe from these collected lists of data\n",
        "\n",
        "df = pd.DataFrame({\"reviews\":reviews,\"stars\": stars,\"month\":month,\"year\":year, \"country\": country, \"seat_type\": seat_type})"
      ]
    },
    {
      "cell_type": "code",
      "execution_count": 11,
      "id": "c6532f95-e13b-4fb9-83f3-300c35c20cf6",
      "metadata": {
        "colab": {
          "base_uri": "https://localhost:8080/",
          "height": 206
        },
        "id": "c6532f95-e13b-4fb9-83f3-300c35c20cf6",
        "outputId": "a004728b-6155-45cb-fe61-52c5ab9c08f0"
      },
      "outputs": [
        {
          "output_type": "execute_result",
          "data": {
            "text/plain": [
              "                                             reviews  \\\n",
              "0  ✅ Trip Verified |  Very poor service, very fru...   \n",
              "1  Not Verified |  Generally poor. Sent to gate o...   \n",
              "2  Not Verified |  BA changed our prepaid seats a...   \n",
              "3  Not Verified |  Flew from London Heathrow to M...   \n",
              "4  Not Verified | I was meant to fly in January t...   \n",
              "\n",
              "                           stars  month  year         country      seat_type  \n",
              "0  \\n\\t\\t\\t\\t\\t\\t\\t\\t\\t\\t\\t\\t\\t5  March  2023  United Kingdom  Economy Class  \n",
              "1                              1  March  2023  United Kingdom  Economy Class  \n",
              "2                              3  March  2023  United Kingdom  Economy Class  \n",
              "3                              1  March  2023  United Kingdom  Economy Class  \n",
              "4                              1  March  2023  United Kingdom  Economy Class  "
            ],
            "text/html": [
              "\n",
              "  <div id=\"df-08b6ef34-a329-4f76-8642-2316c2121387\">\n",
              "    <div class=\"colab-df-container\">\n",
              "      <div>\n",
              "<style scoped>\n",
              "    .dataframe tbody tr th:only-of-type {\n",
              "        vertical-align: middle;\n",
              "    }\n",
              "\n",
              "    .dataframe tbody tr th {\n",
              "        vertical-align: top;\n",
              "    }\n",
              "\n",
              "    .dataframe thead th {\n",
              "        text-align: right;\n",
              "    }\n",
              "</style>\n",
              "<table border=\"1\" class=\"dataframe\">\n",
              "  <thead>\n",
              "    <tr style=\"text-align: right;\">\n",
              "      <th></th>\n",
              "      <th>reviews</th>\n",
              "      <th>stars</th>\n",
              "      <th>month</th>\n",
              "      <th>year</th>\n",
              "      <th>country</th>\n",
              "      <th>seat_type</th>\n",
              "    </tr>\n",
              "  </thead>\n",
              "  <tbody>\n",
              "    <tr>\n",
              "      <th>0</th>\n",
              "      <td>✅ Trip Verified |  Very poor service, very fru...</td>\n",
              "      <td>\\n\\t\\t\\t\\t\\t\\t\\t\\t\\t\\t\\t\\t\\t5</td>\n",
              "      <td>March</td>\n",
              "      <td>2023</td>\n",
              "      <td>United Kingdom</td>\n",
              "      <td>Economy Class</td>\n",
              "    </tr>\n",
              "    <tr>\n",
              "      <th>1</th>\n",
              "      <td>Not Verified |  Generally poor. Sent to gate o...</td>\n",
              "      <td>1</td>\n",
              "      <td>March</td>\n",
              "      <td>2023</td>\n",
              "      <td>United Kingdom</td>\n",
              "      <td>Economy Class</td>\n",
              "    </tr>\n",
              "    <tr>\n",
              "      <th>2</th>\n",
              "      <td>Not Verified |  BA changed our prepaid seats a...</td>\n",
              "      <td>3</td>\n",
              "      <td>March</td>\n",
              "      <td>2023</td>\n",
              "      <td>United Kingdom</td>\n",
              "      <td>Economy Class</td>\n",
              "    </tr>\n",
              "    <tr>\n",
              "      <th>3</th>\n",
              "      <td>Not Verified |  Flew from London Heathrow to M...</td>\n",
              "      <td>1</td>\n",
              "      <td>March</td>\n",
              "      <td>2023</td>\n",
              "      <td>United Kingdom</td>\n",
              "      <td>Economy Class</td>\n",
              "    </tr>\n",
              "    <tr>\n",
              "      <th>4</th>\n",
              "      <td>Not Verified | I was meant to fly in January t...</td>\n",
              "      <td>1</td>\n",
              "      <td>March</td>\n",
              "      <td>2023</td>\n",
              "      <td>United Kingdom</td>\n",
              "      <td>Economy Class</td>\n",
              "    </tr>\n",
              "  </tbody>\n",
              "</table>\n",
              "</div>\n",
              "      <button class=\"colab-df-convert\" onclick=\"convertToInteractive('df-08b6ef34-a329-4f76-8642-2316c2121387')\"\n",
              "              title=\"Convert this dataframe to an interactive table.\"\n",
              "              style=\"display:none;\">\n",
              "        \n",
              "  <svg xmlns=\"http://www.w3.org/2000/svg\" height=\"24px\"viewBox=\"0 0 24 24\"\n",
              "       width=\"24px\">\n",
              "    <path d=\"M0 0h24v24H0V0z\" fill=\"none\"/>\n",
              "    <path d=\"M18.56 5.44l.94 2.06.94-2.06 2.06-.94-2.06-.94-.94-2.06-.94 2.06-2.06.94zm-11 1L8.5 8.5l.94-2.06 2.06-.94-2.06-.94L8.5 2.5l-.94 2.06-2.06.94zm10 10l.94 2.06.94-2.06 2.06-.94-2.06-.94-.94-2.06-.94 2.06-2.06.94z\"/><path d=\"M17.41 7.96l-1.37-1.37c-.4-.4-.92-.59-1.43-.59-.52 0-1.04.2-1.43.59L10.3 9.45l-7.72 7.72c-.78.78-.78 2.05 0 2.83L4 21.41c.39.39.9.59 1.41.59.51 0 1.02-.2 1.41-.59l7.78-7.78 2.81-2.81c.8-.78.8-2.07 0-2.86zM5.41 20L4 18.59l7.72-7.72 1.47 1.35L5.41 20z\"/>\n",
              "  </svg>\n",
              "      </button>\n",
              "      \n",
              "  <style>\n",
              "    .colab-df-container {\n",
              "      display:flex;\n",
              "      flex-wrap:wrap;\n",
              "      gap: 12px;\n",
              "    }\n",
              "\n",
              "    .colab-df-convert {\n",
              "      background-color: #E8F0FE;\n",
              "      border: none;\n",
              "      border-radius: 50%;\n",
              "      cursor: pointer;\n",
              "      display: none;\n",
              "      fill: #1967D2;\n",
              "      height: 32px;\n",
              "      padding: 0 0 0 0;\n",
              "      width: 32px;\n",
              "    }\n",
              "\n",
              "    .colab-df-convert:hover {\n",
              "      background-color: #E2EBFA;\n",
              "      box-shadow: 0px 1px 2px rgba(60, 64, 67, 0.3), 0px 1px 3px 1px rgba(60, 64, 67, 0.15);\n",
              "      fill: #174EA6;\n",
              "    }\n",
              "\n",
              "    [theme=dark] .colab-df-convert {\n",
              "      background-color: #3B4455;\n",
              "      fill: #D2E3FC;\n",
              "    }\n",
              "\n",
              "    [theme=dark] .colab-df-convert:hover {\n",
              "      background-color: #434B5C;\n",
              "      box-shadow: 0px 1px 3px 1px rgba(0, 0, 0, 0.15);\n",
              "      filter: drop-shadow(0px 1px 2px rgba(0, 0, 0, 0.3));\n",
              "      fill: #FFFFFF;\n",
              "    }\n",
              "  </style>\n",
              "\n",
              "      <script>\n",
              "        const buttonEl =\n",
              "          document.querySelector('#df-08b6ef34-a329-4f76-8642-2316c2121387 button.colab-df-convert');\n",
              "        buttonEl.style.display =\n",
              "          google.colab.kernel.accessAllowed ? 'block' : 'none';\n",
              "\n",
              "        async function convertToInteractive(key) {\n",
              "          const element = document.querySelector('#df-08b6ef34-a329-4f76-8642-2316c2121387');\n",
              "          const dataTable =\n",
              "            await google.colab.kernel.invokeFunction('convertToInteractive',\n",
              "                                                     [key], {});\n",
              "          if (!dataTable) return;\n",
              "\n",
              "          const docLinkHtml = 'Like what you see? Visit the ' +\n",
              "            '<a target=\"_blank\" href=https://colab.research.google.com/notebooks/data_table.ipynb>data table notebook</a>'\n",
              "            + ' to learn more about interactive tables.';\n",
              "          element.innerHTML = '';\n",
              "          dataTable['output_type'] = 'display_data';\n",
              "          await google.colab.output.renderOutput(dataTable, element);\n",
              "          const docLink = document.createElement('div');\n",
              "          docLink.innerHTML = docLinkHtml;\n",
              "          element.appendChild(docLink);\n",
              "        }\n",
              "      </script>\n",
              "    </div>\n",
              "  </div>\n",
              "  "
            ]
          },
          "metadata": {},
          "execution_count": 11
        }
      ],
      "source": [
        "df.head()"
      ]
    },
    {
      "cell_type": "code",
      "execution_count": 12,
      "id": "366096e8-d1f2-4033-a831-5447e52861c2",
      "metadata": {
        "colab": {
          "base_uri": "https://localhost:8080/"
        },
        "id": "366096e8-d1f2-4033-a831-5447e52861c2",
        "outputId": "8280c384-1c20-4ae5-a299-1fbb6d2beaea"
      },
      "outputs": [
        {
          "output_type": "execute_result",
          "data": {
            "text/plain": [
              "(3498, 6)"
            ]
          },
          "metadata": {},
          "execution_count": 12
        }
      ],
      "source": [
        "df.shape"
      ]
    },
    {
      "cell_type": "markdown",
      "id": "fc219e55-fdc8-4b10-a3e9-8dda764ee275",
      "metadata": {
        "id": "fc219e55-fdc8-4b10-a3e9-8dda764ee275"
      },
      "source": [
        "### Export the data into a csv format"
      ]
    },
    {
      "cell_type": "code",
      "execution_count": 13,
      "id": "b286e642-59a2-4da3-9120-e9db119ebea6",
      "metadata": {
        "id": "b286e642-59a2-4da3-9120-e9db119ebea6"
      },
      "outputs": [],
      "source": [
        "import os\n",
        "\n",
        "cwd = '/content/drive/MyDrive/British Airways'\n",
        "df.to_csv(cwd+ \"/reviews.csv\")"
      ]
    }
  ],
  "metadata": {
    "kernelspec": {
      "display_name": "Python 3 (ipykernel)",
      "language": "python",
      "name": "python3"
    },
    "language_info": {
      "codemirror_mode": {
        "name": "ipython",
        "version": 3
      },
      "file_extension": ".py",
      "mimetype": "text/x-python",
      "name": "python",
      "nbconvert_exporter": "python",
      "pygments_lexer": "ipython3",
      "version": "3.9.7"
    },
    "colab": {
      "provenance": []
    }
  },
  "nbformat": 4,
  "nbformat_minor": 5
}